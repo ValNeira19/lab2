{
  "nbformat": 4,
  "nbformat_minor": 0,
  "metadata": {
    "colab": {
      "provenance": [],
      "include_colab_link": true
    },
    "kernelspec": {
      "name": "python3",
      "display_name": "Python 3"
    },
    "language_info": {
      "name": "python"
    }
  },
  "cells": [
    {
      "cell_type": "markdown",
      "metadata": {
        "id": "view-in-github",
        "colab_type": "text"
      },
      "source": [
        "<a href=\"https://colab.research.google.com/github/ValNeira19/lab2/blob/main/CalcularValoresPropios.ipynb\" target=\"_parent\"><img src=\"https://colab.research.google.com/assets/colab-badge.svg\" alt=\"Open In Colab\"/></a>"
      ]
    },
    {
      "cell_type": "code",
      "execution_count": 1,
      "metadata": {
        "id": "5NcbAtGfmXB7"
      },
      "outputs": [],
      "source": [
        "import numpy as np\n",
        "\n",
        "def eig(matrix):\n",
        "    eigenvalues, eigenvectors = np.linalg.eig(matrix)\n",
        "    return eigenvalues, eigenvectors\n",
        "\n",
        "\n"
      ]
    },
    {
      "cell_type": "code",
      "source": [
        "# Calcular valores propios de una matriz\n",
        "matrix = np.array([[-3, 0, 0], [0, 2, 0],[0, 0, 2]])\n",
        "eigenvalues, eigenvectors = eig(matrix)\n",
        "print(\"Eigenvalues:\", eigenvalues)\n",
        "print(\"Eigenvectors:\", eigenvectors)"
      ],
      "metadata": {
        "colab": {
          "base_uri": "https://localhost:8080/"
        },
        "id": "wv9Ydh_EmbII",
        "outputId": "42be7c42-38ab-4a3f-dce7-7d9ab8693e79"
      },
      "execution_count": 2,
      "outputs": [
        {
          "output_type": "stream",
          "name": "stdout",
          "text": [
            "Eigenvalues: [-3.  2.  2.]\n",
            "Eigenvectors: [[1. 0. 0.]\n",
            " [0. 1. 0.]\n",
            " [0. 0. 1.]]\n"
          ]
        }
      ]
    }
  ]
}