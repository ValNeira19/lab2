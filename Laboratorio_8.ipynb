{
  "nbformat": 4,
  "nbformat_minor": 0,
  "metadata": {
    "colab": {
      "provenance": [],
      "include_colab_link": true
    },
    "kernelspec": {
      "name": "python3",
      "display_name": "Python 3"
    },
    "language_info": {
      "name": "python"
    }
  },
  "cells": [
    {
      "cell_type": "markdown",
      "metadata": {
        "id": "view-in-github",
        "colab_type": "text"
      },
      "source": [
        "<a href=\"https://colab.research.google.com/github/ValNeira19/lab2/blob/main/Laboratorio_8.ipynb\" target=\"_parent\"><img src=\"https://colab.research.google.com/assets/colab-badge.svg\" alt=\"Open In Colab\"/></a>"
      ]
    },
    {
      "cell_type": "markdown",
      "source": [
        "# Laboratorio 8: Implementación algoritmo de regresión lineal\n",
        "**Facultad de ingeniería, departamento de Ingeniería Biomédica, Universidad de los Andes**\\\n",
        "**IBIO-2440 Programación científica**"
      ],
      "metadata": {
        "id": "cl_j2KwtVuYT"
      }
    },
    {
      "cell_type": "markdown",
      "source": [
        "**Nombres de los integrantes**\n",
        "\n",
        "\n",
        "1.   Valeria Neira \n",
        "2.   Nombre integrante 2\n",
        "\n",
        "**Número del grupo**\n",
        "\n",
        "*Escribir el número del grupo*"
      ],
      "metadata": {
        "id": "dmnIao0gV6XJ"
      }
    },
    {
      "cell_type": "markdown",
      "source": [
        "# **Regresión lineal**\n",
        "\n",
        "Considere el conjunto de puntos:\\\n",
        " $(x^{(1)},y^{(1)}), (x^{(2)},y^{(2)}), ... , (x^{(m)},y^{(m)})$,\n",
        "\n",
        "donde se asume que se relacionan a través de la ecuación:\n",
        "\\begin{align*}\n",
        "  y^{(i)} \\approx β_{1} + &x^{(i)}β_{2}\\\\\n",
        " \\end{align*}\n",
        "Encontrar $\\beta=[\\beta_1,\\beta_1]^T$ se resuelve a través de la solución del problema de mínimos cuadrados:\n",
        "\\begin{align*}\n",
        "  \\min_\\beta ||y-H\\beta||_2^2,\n",
        " \\end{align*}\n",
        "donde $y$ y $H$ se contruyen a partir de los datos como se vio en clase. La solución analítica de este problema tiene la forma:\n",
        "\\begin{align*}\n",
        "  \\beta^* =  (H^TH)^{-1}H^Ty\n",
        " \\end{align*}\n",
        " \n",
        "Ahora, sigua los siguientes pasos:\n",
        "\n",
        "1. Teniendo en cuenta los datos anexados en la actividad en archivo excel, use la libreria *pandas* para procesarlos y trabajar con ellos. La primera columna corresponde a los valores de $x$ y la segunda a los valores de $y$.\n"
      ],
      "metadata": {
        "id": "pkVvrCyYV-c2"
      }
    },
    {
      "cell_type": "code",
      "source": [
        "import numpy as np\n",
        "import pandas as pd \n",
        "from numpy.linalg import inv\n",
        "from numpy.linalg import norm\n",
        "import matplotlib.pyplot as plt\n",
        "\n",
        "tabla = pd.read_excel(r'data.xlsx', header= None)\n",
        "print (tabla)"
      ],
      "metadata": {
        "id": "97J2a5gp2aXH",
        "colab": {
          "base_uri": "https://localhost:8080/",
          "height": 0
        },
        "outputId": "01af9557-08bf-4a0b-dcc1-84b34e4d624a"
      },
      "execution_count": 4,
      "outputs": [
        {
          "output_type": "stream",
          "name": "stdout",
          "text": [
            "        0          1\n",
            "0     0.0   3.191590\n",
            "1     0.1  -1.735428\n",
            "2     0.2  -0.347611\n",
            "3     0.3  -0.626006\n",
            "4     0.4   1.867975\n",
            "..    ...        ...\n",
            "96    9.6  43.227739\n",
            "97    9.7  43.686057\n",
            "98    9.8  48.793988\n",
            "99    9.9  52.387736\n",
            "100  10.0  52.806588\n",
            "\n",
            "[101 rows x 2 columns]\n"
          ]
        }
      ]
    },
    {
      "cell_type": "markdown",
      "source": [
        "2. Construya la matriz $H$ y el vector $y$."
      ],
      "metadata": {
        "id": "Jq9uexuhWDeY"
      }
    },
    {
      "cell_type": "code",
      "source": [
        "tb = tabla.to_numpy()\n",
        "\n",
        "x = tb[:,0]\n",
        "y = tb[:,1]\n",
        "\n",
        "unos = np.ones(101)\n",
        "H = np.vstack((unos,x))\n",
        "\n",
        "H = H.T\n",
        "\n",
        "print (H)"
      ],
      "metadata": {
        "id": "5XGM9zbo4JEK",
        "colab": {
          "base_uri": "https://localhost:8080/"
        },
        "outputId": "046cbea7-b440-49a2-8ad8-80471a6877bd"
      },
      "execution_count": 12,
      "outputs": [
        {
          "output_type": "stream",
          "name": "stdout",
          "text": [
            "[[ 1.   0. ]\n",
            " [ 1.   0.1]\n",
            " [ 1.   0.2]\n",
            " [ 1.   0.3]\n",
            " [ 1.   0.4]\n",
            " [ 1.   0.5]\n",
            " [ 1.   0.6]\n",
            " [ 1.   0.7]\n",
            " [ 1.   0.8]\n",
            " [ 1.   0.9]\n",
            " [ 1.   1. ]\n",
            " [ 1.   1.1]\n",
            " [ 1.   1.2]\n",
            " [ 1.   1.3]\n",
            " [ 1.   1.4]\n",
            " [ 1.   1.5]\n",
            " [ 1.   1.6]\n",
            " [ 1.   1.7]\n",
            " [ 1.   1.8]\n",
            " [ 1.   1.9]\n",
            " [ 1.   2. ]\n",
            " [ 1.   2.1]\n",
            " [ 1.   2.2]\n",
            " [ 1.   2.3]\n",
            " [ 1.   2.4]\n",
            " [ 1.   2.5]\n",
            " [ 1.   2.6]\n",
            " [ 1.   2.7]\n",
            " [ 1.   2.8]\n",
            " [ 1.   2.9]\n",
            " [ 1.   3. ]\n",
            " [ 1.   3.1]\n",
            " [ 1.   3.2]\n",
            " [ 1.   3.3]\n",
            " [ 1.   3.4]\n",
            " [ 1.   3.5]\n",
            " [ 1.   3.6]\n",
            " [ 1.   3.7]\n",
            " [ 1.   3.8]\n",
            " [ 1.   3.9]\n",
            " [ 1.   4. ]\n",
            " [ 1.   4.1]\n",
            " [ 1.   4.2]\n",
            " [ 1.   4.3]\n",
            " [ 1.   4.4]\n",
            " [ 1.   4.5]\n",
            " [ 1.   4.6]\n",
            " [ 1.   4.7]\n",
            " [ 1.   4.8]\n",
            " [ 1.   4.9]\n",
            " [ 1.   5. ]\n",
            " [ 1.   5.1]\n",
            " [ 1.   5.2]\n",
            " [ 1.   5.3]\n",
            " [ 1.   5.4]\n",
            " [ 1.   5.5]\n",
            " [ 1.   5.6]\n",
            " [ 1.   5.7]\n",
            " [ 1.   5.8]\n",
            " [ 1.   5.9]\n",
            " [ 1.   6. ]\n",
            " [ 1.   6.1]\n",
            " [ 1.   6.2]\n",
            " [ 1.   6.3]\n",
            " [ 1.   6.4]\n",
            " [ 1.   6.5]\n",
            " [ 1.   6.6]\n",
            " [ 1.   6.7]\n",
            " [ 1.   6.8]\n",
            " [ 1.   6.9]\n",
            " [ 1.   7. ]\n",
            " [ 1.   7.1]\n",
            " [ 1.   7.2]\n",
            " [ 1.   7.3]\n",
            " [ 1.   7.4]\n",
            " [ 1.   7.5]\n",
            " [ 1.   7.6]\n",
            " [ 1.   7.7]\n",
            " [ 1.   7.8]\n",
            " [ 1.   7.9]\n",
            " [ 1.   8. ]\n",
            " [ 1.   8.1]\n",
            " [ 1.   8.2]\n",
            " [ 1.   8.3]\n",
            " [ 1.   8.4]\n",
            " [ 1.   8.5]\n",
            " [ 1.   8.6]\n",
            " [ 1.   8.7]\n",
            " [ 1.   8.8]\n",
            " [ 1.   8.9]\n",
            " [ 1.   9. ]\n",
            " [ 1.   9.1]\n",
            " [ 1.   9.2]\n",
            " [ 1.   9.3]\n",
            " [ 1.   9.4]\n",
            " [ 1.   9.5]\n",
            " [ 1.   9.6]\n",
            " [ 1.   9.7]\n",
            " [ 1.   9.8]\n",
            " [ 1.   9.9]\n",
            " [ 1.  10. ]]\n"
          ]
        }
      ]
    },
    {
      "cell_type": "markdown",
      "source": [
        "3. Encuentre los valores de $\\beta^*$."
      ],
      "metadata": {
        "id": "YIbtDrJU4JN3"
      }
    },
    {
      "cell_type": "code",
      "source": [
        "t1 = (H.T @ H)\n",
        "t1_inv = np.linalg.inv(t1)\n",
        "\n",
        "beta = t1_inv @ H.T @ y\n",
        "\n",
        "print (beta)"
      ],
      "metadata": {
        "id": "tg_nSj4B4Ps3",
        "colab": {
          "base_uri": "https://localhost:8080/"
        },
        "outputId": "2278afb4-3f30-4566-d315-56acd374701b"
      },
      "execution_count": 11,
      "outputs": [
        {
          "output_type": "stream",
          "name": "stdout",
          "text": [
            "[0.07893785 5.09970266]\n"
          ]
        }
      ]
    },
    {
      "cell_type": "markdown",
      "source": [
        "4. Grafique la recta obtenida junto a los datos anexados."
      ],
      "metadata": {
        "id": "2h2rqn-k4QQh"
      }
    },
    {
      "cell_type": "code",
      "source": [
        "x_grafica = np.linspace(0,10,1000)\n",
        "y_grafica = beta[0] + beta[1]*x_grafica\n",
        "\n",
        "plt.plot(x_grafica, y_grafica)\n",
        "plt.scatter(x,y)"
      ],
      "metadata": {
        "id": "j3OB9g-464Dh",
        "colab": {
          "base_uri": "https://localhost:8080/",
          "height": 283
        },
        "outputId": "3695e59e-910c-4cf0-c589-e800023ece27"
      },
      "execution_count": 15,
      "outputs": [
        {
          "output_type": "execute_result",
          "data": {
            "text/plain": [
              "<matplotlib.collections.PathCollection at 0x7fbee634a910>"
            ]
          },
          "metadata": {},
          "execution_count": 15
        },
        {
          "output_type": "display_data",
          "data": {
            "text/plain": [
              "<Figure size 432x288 with 1 Axes>"
            ],
            "image/png": "[encoded data removed]"
          },
          "metadata": {
            "needs_background": "light"
          }
        }
      ]
    },
    {
      "cell_type": "markdown",
      "source": [
        "5. Con los coeficientes hallados, se desea comparar el error con otras dos parejas de coeficientes:\n",
        "\n",
        " - $\\beta_a=[\\beta_1^*+5, \\beta_2^*-1]^T$\n",
        " - $\\beta_b=[\\beta_1^*-5, \\beta_2^*+1]^T$.\n",
        "\n",
        "Determine el valor de:\n",
        "\n",
        "  \\begin{align*}\n",
        "  ||y-H\\beta||_2^2\n",
        " \\end{align*}\n",
        "\n",
        "para $\\beta^*$, $\\beta_a$, y $\\beta_b$. Aquí los valores de $y$ y $H$ son los mismos para todos ya que los datos no cambian. Explique los resultados obtenidos. "
      ],
      "metadata": {
        "id": "rMRjXkcE5H8B"
      }
    },
    {
      "cell_type": "code",
      "source": [
        "M = y -(H@beta) \n",
        "n = (norm(M,2))**2\n",
        "\n",
        "\n",
        "b_a = np.array([ beta[0]+5 , beta[1] - 1])\n",
        "b_a = b_a.T\n",
        "\n",
        "b_b = np.array([ beta[0]-5 , beta[1] + 1])\n",
        "b_b = b_b.T\n",
        "\n",
        "M_1 = y -(H@b_a) \n",
        "n_1 = (norm(M_1,2))**2\n",
        "\n",
        "M_2 = y -(H@b_b) \n",
        "n_2 = (norm(M_2,2))**2\n",
        "\n",
        "print(n, n_1, n_2)"
      ],
      "metadata": {
        "id": "9qhW5uQmDQl4",
        "colab": {
          "base_uri": "https://localhost:8080/"
        },
        "outputId": "537f5dd3-0c80-469a-e7d1-9f2ae29a403f"
      },
      "execution_count": 22,
      "outputs": [
        {
          "output_type": "stream",
          "name": "stdout",
          "text": [
            "2905.840606119537 3764.3406061195483 3764.3406061195255\n"
          ]
        }
      ]
    },
    {
      "cell_type": "markdown",
      "source": [
        "6. Grafique el las tres rectas (es decir, las obtenidas por $\\beta^*$, $\\beta_a$, y $\\beta_b$)  junto a los datos anexados. En un scatter plot pinte los datos en el archivo, y pinte las tres rectas traslapadas con tres colores diferentes. Interprete los resultados obtenidos."
      ],
      "metadata": {
        "id": "rFZquyhmDPxt"
      }
    },
    {
      "cell_type": "code",
      "source": [
        "x_grafica = np.linspace(0,10,1000)\n",
        "y_grafica = beta[0] + beta[1]*x_grafica\n",
        "\n",
        "x1_grafica = np.linspace(0,10,1000)\n",
        "y1_grafica = b_a[0] + b_a[1]*x1_grafica\n",
        "\n",
        "x2_grafica = np.linspace(0,10,1000)\n",
        "y2_grafica = b_b[0] + b_b[1]*x2_grafica\n",
        "\n",
        "plt.plot(x_grafica, y_grafica)\n",
        "plt.plot(x1_grafica, y1_grafica)\n",
        "plt.plot(x2_grafica, y2_grafica)\n",
        "plt.scatter(x,y)"
      ],
      "metadata": {
        "id": "OwmmTa6tDXZn",
        "colab": {
          "base_uri": "https://localhost:8080/",
          "height": 283
        },
        "outputId": "d8cf7564-f416-43ad-ee41-5fa78164ea58"
      },
      "execution_count": 25,
      "outputs": [
        {
          "output_type": "execute_result",
          "data": {
            "text/plain": [
              "<matplotlib.collections.PathCollection at 0x7fbee634e130>"
            ]
          },
          "metadata": {},
          "execution_count": 25
        },
        {
          "output_type": "display_data",
          "data": {
            "text/plain": [
              "<Figure size 432x288 with 1 Axes>"
            ],
            "image/png": "[encoded data removed]"
          },
          "metadata": {
            "needs_background": "light"
          }
        }
      ]
    },
    {
      "cell_type": "markdown",
      "source": [
        "tenienod en cuenta que se quiere encontrar un beta que minimice la distancia de nuestos datos se puede decir que los valores de los betas calculados inicialmente con el metodo de minimos cuadrados [0.07893785 5.09970266] es el mas optimo para este caso. Por el contrario, los otros dos valores de beta ( 𝛽𝑎 y 𝛽𝑏 ) presentan una una mayor norma lo que significa que nos son los mas optimos. "
      ],
      "metadata": {
        "id": "gUC9-79IhelX"
      }
    }
  ]
}